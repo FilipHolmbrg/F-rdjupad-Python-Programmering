{
 "cells": [
  {
   "cell_type": "markdown",
   "id": "e59b511e",
   "metadata": {},
   "source": [
    "# Kunskapskontroll 1 – Fördjupad Pythonprogrammering\n",
    "besvarad av Filip Holmberg"
   ]
  },
  {
   "cell_type": "markdown",
   "id": "1232890e",
   "metadata": {},
   "source": [
    "# Fråga 1 \n",
    "I Python så kan man skapa grafiska användargränssnitt (GUI = Graphical User Interface). \n",
    "Ett sådant exempel där biblioteket ”tkinter” används kan du se i mappen ”csv_viewer”. \n",
    "Granska koden, förstå vad som sker och skriv kort ned vad programmet gör.  \n",
    "Besvara frågan i samma jupyter notebook som du använder för fråga 2 nedan.  "
   ]
  },
  {
   "cell_type": "markdown",
   "id": "d66444b8",
   "metadata": {},
   "source": [
    "På högsta nivå gör koden följande 5 saker:\n",
    "\n",
    "1.\tImportering av bibliotek. (rad 1-3)\n",
    "2.\tInläsning av data. (rad 6)\n",
    "3.\tInstansierar av tk-objekt. (rad 151)\n",
    "4.\tInstansierar objekt med klass VehicleViewerApp, med tk-objektet som argument. (rad 152)\n",
    "5.\tSätter tk-objektet att köras tillsvidare genom mainloop funktionen. (rad 153)\n",
    "\n",
    "VehicleViewerApp (rad 8-146) klassen definieras av :\n",
    "\n",
    "•\t__init__. Använder tk-objekt (root) som parameter och hittar data-objekt (df) i globala namnrymden. Dessa används för att sätta attribut. Sedan ska GUI fönstret skapas och konfigureras, och dess funktioner skapas. Generellt på formen tk.{metod}({tk-objekt}, diverse, parametrar). GUI:n blir ett attribut i klassen, vilket syns self.{attribut} syntaxen.\n",
    "\n",
    "3 metoder körs direkt i __init__ metoden: Auto_adjustment_column_width, display_results och set_window_icon. Apply filter metoden används bara om filter knappen används.\n",
    "\n",
    "Kort beskrivning av funktioner:\n",
    "\n",
    "•\tAuto_adjustment_column_width. Konfigurerar kolumnens bredd dynamiskt utifrån datan som finns tillgänglig – så det blir snyggare layout på GUI:n.\n",
    "\n",
    "•\tDisplay_results. Tar bort tidigare data och lägger till ny data (utifrån). Funktionen används när GUI:n startas, och om filtreringsknappen används.\n",
    "\n",
    "\n",
    "•\tSet_window_icon. Sätter en bild högst uppe i vänstra hörnet på GUI:n.\n",
    "\n",
    "•\tApply_filter. Skapar filtreringsfunktionen för GUI:n.\n",
    "\n",
    "\n",
    "•\tExport_to_csv. Används ej av GUI:n. Kan tas bort ur kod. Syftet är att ha funktionaliteten att kunna spara filtrerad data till .csv fil.\n"
   ]
  },
  {
   "cell_type": "markdown",
   "id": "8c3e461c",
   "metadata": {},
   "source": [
    "# Fråga 2 \n",
    "I en jupyter notebook ska du lösa följande uppgifter:  \n",
    "1. Alla uppgifter från kapitel 6 i kursboken.  \n",
    "2. Alla uppgifter från kapitel 7 i kursboken.  \n",
    "3. Alla uppgifter från kapitel 8 i kursboken.  \n",
    "4. Alla uppgifter från kapitel 9 i kursboken.  \n",
    "5. Uppgift 3 från kapitel 10 i kursboken.  \n",
    "6. Alla uppgifter från kapitel 11 i kursboken. "
   ]
  },
  {
   "cell_type": "markdown",
   "id": "5934e881-e6e0-44fe-ae59-e7ea23a23c2a",
   "metadata": {},
   "source": [
    "# Uppgifter, Kapitel 6 - Klasser"
   ]
  },
  {
   "cell_type": "markdown",
   "id": "2ad510ef-639a-4733-8b8e-b2801a07c795",
   "metadata": {},
   "source": [
    "1. Kolla vilka klasser variablerna a, b, c, och d tillhör genom att använda type() funktionen.\n",
    "   Notera att vi i variablen d har sparat en funktion. Vi hade kunnat anropa den genom att till exempel skriva d(2). "
   ]
  },
  {
   "cell_type": "code",
   "execution_count": 1,
   "id": "7cfed4fc-fbe2-49c4-bb84-f3917ba4248d",
   "metadata": {},
   "outputs": [],
   "source": [
    "a = 10 \n",
    "b = [5, 7, 3] \n",
    "c = {2, 7, 1, 8, 2, 8}\n",
    "\n",
    "def my_fun(x):\n",
    "    return 2*2\n",
    "\n",
    "d = my_fun"
   ]
  },
  {
   "cell_type": "code",
   "execution_count": 2,
   "id": "289e3834-bb81-4850-a6c3-1d6bf54e8b69",
   "metadata": {},
   "outputs": [
    {
     "name": "stdout",
     "output_type": "stream",
     "text": [
      "<class 'int'> <class 'list'> <class 'set'> <class 'function'>\n"
     ]
    }
   ],
   "source": [
    "print(type(a), type(b), type(c), type(d))"
   ]
  },
  {
   "cell_type": "markdown",
   "id": "56c2e99e-6a41-43c9-8ea3-e002834187c5",
   "metadata": {},
   "source": [
    "2. a) Kolla om variablen \"my_variable\" är en instans av \"tuple\" klassen genom att använda isinstance() funktionen.\n",
    "   \n",
    "   b) Kolla om variablen \"my_variable\" är en instans av \"list\" klassen genom att använda isinstance() funktionen."
   ]
  },
  {
   "cell_type": "code",
   "execution_count": 3,
   "id": "53dce717-b6ce-4288-8bc2-785184f17d01",
   "metadata": {},
   "outputs": [],
   "source": [
    "my_variable = (1, 1, 2, 3, 5)"
   ]
  },
  {
   "cell_type": "code",
   "execution_count": 4,
   "id": "904943c7-6cd5-4d8c-9ae5-57fa3d6460c6",
   "metadata": {},
   "outputs": [
    {
     "name": "stdout",
     "output_type": "stream",
     "text": [
      "True\n",
      "False\n"
     ]
    }
   ],
   "source": [
    "print(isinstance(my_variable, tuple))\n",
    "print(isinstance(my_variable, list))"
   ]
  },
  {
   "cell_type": "markdown",
   "id": "64fa3651-1d96-4181-9e2a-b2134365a398",
   "metadata": {},
   "source": [
    "3. I denna uppgiften skall du göra följande:\n",
    " \n",
    "   a) Skapa en klass som heter \"FruitProduct\" som har en docstring där det står \"A class representing fruit products in a grocery store.\".\n",
    "   \n",
    "   b) Klassen skall ha instans-attributen \"price\" och \"quantity\". Detta gör du i samband med _\\_\\_init_\\__() .\n",
    "   \n",
    "   c) Instantiera klassen och spara instansen i variablen \"swedish_apples\". Dess pris skall vara 52 och dess kvantitet 1. Det är underförstått att vi menar kronor respektive kg. \n",
    "   \n",
    "   d) Printa ut klassens docstring genom att använda dig av _\\_\\_doc_\\_\\_.\n",
    "   \n",
    "   e) Printa ut attributen från \"swedish_apples\" instansen.\n",
    "   \n",
    "   f) Kolla vilken klass instansen \"swedish_apples\" tillhör genom att använda type() metoden.\n",
    "   \n",
    "   g) Kolla om \"swedish_apples\" tillhör klassen \"FruitProduct\" genom att använda isinstance() metoden."
   ]
  },
  {
   "cell_type": "code",
   "execution_count": 5,
   "id": "d8c93a19-63da-4790-ab0f-24be338d192b",
   "metadata": {},
   "outputs": [
    {
     "name": "stdout",
     "output_type": "stream",
     "text": [
      "A class representing fruit products in a grocery store\n",
      "['__class__', '__delattr__', '__dict__', '__dir__', '__doc__', '__eq__', '__format__', '__ge__', '__getattribute__', '__gt__', '__hash__', '__init__', '__init_subclass__', '__le__', '__lt__', '__module__', '__ne__', '__new__', '__reduce__', '__reduce_ex__', '__repr__', '__setattr__', '__sizeof__', '__str__', '__subclasshook__', '__weakref__', 'price', 'quantity']\n",
      "<class '__main__.FruitProduct'>\n",
      "True\n"
     ]
    }
   ],
   "source": [
    "class FruitProduct:\n",
    "    \"\"\"A class representing fruit products in a grocery store\"\"\"\n",
    "    def __init__(self, price, quantity):\n",
    "        self.price = price\n",
    "        self.quantity = quantity\n",
    "\n",
    "swedish_apples = FruitProduct(52, 1)\n",
    "\n",
    "print(swedish_apples.__doc__)\n",
    "# print(vars(swedish_apples))\n",
    "print(dir(swedish_apples))\n",
    "print(type(swedish_apples))\n",
    "print(isinstance(swedish_apples, FruitProduct))"
   ]
  },
  {
   "cell_type": "markdown",
   "id": "accc0d0d-2246-43a6-afaf-b5b1c42b1ab6",
   "metadata": {},
   "source": [
    "4. Skapa en klass \"Square\" vars instanser har attributet \"side_length\". Skapa två metoder, \"perimeter()\" och \"area()\" där metoderna beräknar omkretsen respektive arean givet längden på kvadraternas sidor som finns i attributet \"side_length\". Skapa en instans \"my_square\" med sidlängden 8. Beräkna omkretsen och arean av \"my_square\" genom att använda de två metoderna som du har skapat. "
   ]
  },
  {
   "cell_type": "code",
   "execution_count": 6,
   "id": "69074342-0042-459b-893b-157d0f1fe6de",
   "metadata": {},
   "outputs": [
    {
     "name": "stdout",
     "output_type": "stream",
     "text": [
      "32\n",
      "64\n"
     ]
    }
   ],
   "source": [
    "class Square:\n",
    "    def __init__(self, side_length):\n",
    "        self.side_length = side_length\n",
    "    def perimeter(self):\n",
    "        return self.side_length * 4 \n",
    "    def area(self):\n",
    "        return self.side_length ** 2\n",
    "        \n",
    "my_square = Square(8)\n",
    "print(my_square.perimeter())\n",
    "print(my_square.area())"
   ]
  },
  {
   "cell_type": "markdown",
   "id": "1fccc14a-5c59-46b0-900b-ee17b8638c84",
   "metadata": {},
   "source": [
    "5. a) Förklara vad nedanstående kod gör.\n",
    "   \n",
    "   b) Prova ändra variabeln L i koden nedan till en tuple och se vad som sker när du kör om all kod. "
   ]
  },
  {
   "cell_type": "markdown",
   "id": "8f773b76",
   "metadata": {},
   "source": [
    "5. a) Se svar för respektive kod i anslutning till kodblock."
   ]
  },
  {
   "cell_type": "code",
   "execution_count": 7,
   "id": "78dafba1-8370-403b-a3e5-abf3e246c0c8",
   "metadata": {},
   "outputs": [],
   "source": [
    "class DescriptiveStatistics():\n",
    "    \"\"\"This class provides functionality for calculating descriptive statistics from a list.\"\"\"\n",
    "    \n",
    "    def __init__(self):\n",
    "        self.data = []\n",
    "    \n",
    "    def add_data(self, data):\n",
    "        if isinstance(data, list):\n",
    "            self.data.extend(data)\n",
    "        else:\n",
    "            # Code below raises an error if the data is not a list. Will be covered in chapter 8 of the book. \n",
    "            raise Exception('Only \"Lists\" are accepted as data.')  \n",
    "            \n",
    "    def calc_sum(self):\n",
    "        return sum(self.data)\n",
    "    \n",
    "    def calc_nbr_of_elements(self):\n",
    "        return len(self.data)\n",
    "    \n",
    "    def calc_mean(self):\n",
    "        return (self.calc_sum())/(self.calc_nbr_of_elements())\n",
    "    \n",
    "    def print_summary(self):\n",
    "        print('Sum:', self.calc_sum())\n",
    "        print('Number of elements:', self.calc_nbr_of_elements())\n",
    "        print('Mean:', self.calc_mean())  "
   ]
  },
  {
   "cell_type": "markdown",
   "id": "9d24faef",
   "metadata": {},
   "source": [
    "Koden skapar en klass med flera metoder.\n",
    "\n",
    "Klassen består av följande:\n",
    "\n",
    "-docstring.\n",
    "\n",
    "-initmetod där instansattribut data anges.\n",
    "\n",
    "-funktion: adderar argument till lista om data är av klassen list, annars raise exception.\n",
    "    \n",
    "-funktion: summera listan av data.\n",
    "    \n",
    "-funktion: beräkna antal element i lista.\n",
    "    \n",
    "-funktion: beräkna medelvärde av data i lista.\n",
    "    \n",
    "-funktion: printa ut sum, antal element, medelvärde."
   ]
  },
  {
   "cell_type": "code",
   "execution_count": 8,
   "id": "0ca8bbdd-fae5-49eb-b7ac-e1097d21be32",
   "metadata": {},
   "outputs": [],
   "source": [
    "L = [1, 2, 1, 3, 5, 7, 4, 9, 10, 3, 2, 1, 6, 4, 3, 2, 1, 10, 9, 1, 8, 7, 3, 2, 1]\n",
    "my_data = DescriptiveStatistics()\n",
    "my_data.add_data(L)"
   ]
  },
  {
   "cell_type": "markdown",
   "id": "82108e8c",
   "metadata": {},
   "source": [
    "Koden gör följande:\n",
    "\n",
    "-skapar lista med värden.\n",
    "\n",
    "-skapa identifierare my_data.\n",
    "\n",
    "-använder function add_data."
   ]
  },
  {
   "cell_type": "code",
   "execution_count": 9,
   "id": "bae2fd7d-7a65-4043-999f-dce227334d38",
   "metadata": {},
   "outputs": [
    {
     "data": {
      "text/plain": [
       "[1, 2, 1, 3, 5, 7, 4, 9, 10, 3, 2, 1, 6, 4, 3, 2, 1, 10, 9, 1, 8, 7, 3, 2, 1]"
      ]
     },
     "execution_count": 9,
     "metadata": {},
     "output_type": "execute_result"
    }
   ],
   "source": [
    "my_data.data"
   ]
  },
  {
   "cell_type": "markdown",
   "id": "29c4b4ce",
   "metadata": {},
   "source": [
    "-får tillgång till attributet data"
   ]
  },
  {
   "cell_type": "code",
   "execution_count": 10,
   "id": "39c2015b-65d9-4c48-ad0d-edb01a192280",
   "metadata": {},
   "outputs": [
    {
     "name": "stdout",
     "output_type": "stream",
     "text": [
      "Sum: 105\n",
      "Number of elements: 25\n",
      "Mean: 4.2\n"
     ]
    }
   ],
   "source": [
    "print('Sum:', my_data.calc_sum())\n",
    "print('Number of elements:', my_data.calc_nbr_of_elements())\n",
    "print('Mean:', my_data.calc_mean())"
   ]
  },
  {
   "cell_type": "markdown",
   "id": "2028cc4c",
   "metadata": {},
   "source": [
    "-skriver ut manuellt resultat av olika funktioner"
   ]
  },
  {
   "cell_type": "code",
   "execution_count": 11,
   "id": "e438a49d-04c1-45e1-8632-52bca24e8b31",
   "metadata": {},
   "outputs": [
    {
     "name": "stdout",
     "output_type": "stream",
     "text": [
      "Sum: 105\n",
      "Number of elements: 25\n",
      "Mean: 4.2\n"
     ]
    }
   ],
   "source": [
    "my_data.print_summary()"
   ]
  },
  {
   "cell_type": "markdown",
   "id": "35199e16",
   "metadata": {},
   "source": [
    "-skriver ut summary med hjälp av metod"
   ]
  },
  {
   "cell_type": "markdown",
   "id": "779d509e",
   "metadata": {},
   "source": [
    "5. b) Svar se nedan. ett exception skapas då add_data bara vill ha argument: list."
   ]
  },
  {
   "cell_type": "code",
   "execution_count": 12,
   "id": "184c318f",
   "metadata": {},
   "outputs": [
    {
     "ename": "Exception",
     "evalue": "Only \"Lists\" are accepted as data.",
     "output_type": "error",
     "traceback": [
      "\u001b[1;31m---------------------------------------------------------------------------\u001b[0m",
      "\u001b[1;31mException\u001b[0m                                 Traceback (most recent call last)",
      "Cell \u001b[1;32mIn[12], line 1\u001b[0m\n\u001b[1;32m----> 1\u001b[0m \u001b[43mmy_data\u001b[49m\u001b[38;5;241;43m.\u001b[39;49m\u001b[43madd_data\u001b[49m\u001b[43m(\u001b[49m\u001b[38;5;28;43mtuple\u001b[39;49m\u001b[43m(\u001b[49m\u001b[43mL\u001b[49m\u001b[43m)\u001b[49m\u001b[43m)\u001b[49m\n",
      "Cell \u001b[1;32mIn[7], line 12\u001b[0m, in \u001b[0;36mDescriptiveStatistics.add_data\u001b[1;34m(self, data)\u001b[0m\n\u001b[0;32m      9\u001b[0m     \u001b[38;5;28mself\u001b[39m\u001b[38;5;241m.\u001b[39mdata\u001b[38;5;241m.\u001b[39mextend(data)\n\u001b[0;32m     10\u001b[0m \u001b[38;5;28;01melse\u001b[39;00m:\n\u001b[0;32m     11\u001b[0m     \u001b[38;5;66;03m# Code below raises an error if the data is not a list. Will be covered in chapter 8 of the book. \u001b[39;00m\n\u001b[1;32m---> 12\u001b[0m     \u001b[38;5;28;01mraise\u001b[39;00m \u001b[38;5;167;01mException\u001b[39;00m(\u001b[38;5;124m'\u001b[39m\u001b[38;5;124mOnly \u001b[39m\u001b[38;5;124m\"\u001b[39m\u001b[38;5;124mLists\u001b[39m\u001b[38;5;124m\"\u001b[39m\u001b[38;5;124m are accepted as data.\u001b[39m\u001b[38;5;124m'\u001b[39m)\n",
      "\u001b[1;31mException\u001b[0m: Only \"Lists\" are accepted as data."
     ]
    }
   ],
   "source": [
    "my_data.add_data(tuple(L))"
   ]
  },
  {
   "cell_type": "markdown",
   "id": "27871179-b49f-41ab-b5ed-ddc6275d083f",
   "metadata": {},
   "source": [
    "6. a) Skapa en klass som heter BankAccount. Klassen skall ha attributet \"account_holder\" som visar kontoinnehavarens namn samt attributet \"balance\" som visar kontoinnehavarens balans. Klassen skall ha metoden \"deposit()\" för att kunna sätta in pengar på kontot samt metoden \"withdraw()\" för att kunna ta ut pengar från kontot. Om bankinnehavaren försöker ta ut mer pengar än vad som finns på kontot skall meddelandet \"Too low balance\" printas ut.\n",
    "   \n",
    "   b) Skapa en instans av klassen och testa så klassen funkar så som du förväntar dig. Du kan till exempel prova printa ut attributen, sätta in pengar och ta ut pengar. "
   ]
  },
  {
   "cell_type": "code",
   "execution_count": 13,
   "id": "d1062a2c-7c92-45e4-8d33-d428ab2537e6",
   "metadata": {},
   "outputs": [],
   "source": [
    "class BankAccount:\n",
    "    \n",
    "    Bank = \"United Trading Bank of Sweden\"\n",
    "    \n",
    "    def __init__(self, account_holder):\n",
    "        self.account_holder = account_holder\n",
    "        self.balance = 0\n",
    "    \n",
    "    def deposit(self, data):\n",
    "        self.balance = self.balance + data\n",
    "        print(f\"new balance: {self.balance}\")\n",
    "    \n",
    "    def withdraw(self, data):\n",
    "        if data <= self.balance:\n",
    "            self.balance -= data\n",
    "            print(f\"withdraw {data} - new balance: {self.balance}\")\n",
    "        else:\n",
    "            print(\"Balance too low\")"
   ]
  },
  {
   "cell_type": "code",
   "execution_count": 14,
   "id": "a72e9764",
   "metadata": {},
   "outputs": [
    {
     "name": "stdout",
     "output_type": "stream",
     "text": [
      "Balance too low\n",
      "new balance: 100\n",
      "withdraw 100 - new balance: 0\n"
     ]
    }
   ],
   "source": [
    "janne = BankAccount(\"Jan Jansson\")\n",
    "janne.balance\n",
    "janne.withdraw(100)\n",
    "janne.deposit(100)\n",
    "janne.withdraw(100)"
   ]
  },
  {
   "cell_type": "markdown",
   "id": "f7383657-a3db-47eb-9263-b4be45de3409",
   "metadata": {},
   "source": [
    "7. Din kollega Adrian frågar dig, vad är klasser för något? Försök förklara detta för Adrian. Använd begreppen instanser, attribut samt metoder i din förklaring. "
   ]
  },
  {
   "cell_type": "markdown",
   "id": "6627528b",
   "metadata": {},
   "source": [
    "En klass är en blue-print (\"mall\") som innehåller attribut (egenskaper/status) och metoder (funktioner som ändrar egenskaper/status). Varje gång ett objekt (variabel eller identifierare, t ex my_object = MyClass()) skapas mha klassen, skapas en instans med dessa tillhörande attribut och metoder."
   ]
  },
  {
   "cell_type": "markdown",
   "id": "9799136c-28e3-4c25-9585-241385dd2803",
   "metadata": {},
   "source": [
    "# Uppgifter, Kapitel 7 - Konventioner och standarder"
   ]
  },
  {
   "cell_type": "markdown",
   "id": "1565038d-c4c8-4da0-af92-3fc60587fb8b",
   "metadata": {},
   "source": [
    "1. Läs \"PEP 8 – Style Guide for \n",
    "Python Cod\"  och besvaranedanstående frågor.\n",
    " \n",
    "   a) Om du arbetar i ett projekt som har ett internt dokument med \"style guidelines\" där vissa saker går emot vad PEP8 säger. Vad gör du då?\n",
    "   \n",
    "   b) På vilket språk skall kommentarer generellt sett skrivas.\n",
    "   \n",
    "   c) Hur skall funktioner och variabler namnges?\n",
    "   \n",
    "   d) Hur skall klasser namnges?\n",
    "   \n",
    "   e) Om du i ditt skript importerar exempelvis en modul, vart i skriptet skall koden som utför importen placeras?\n",
    "   \n",
    "   f) Enligt PEP8, skall man använda enkla ('my_string') eller dubbla (\"my_string\") citattecken för att skapa en sträng?\n",
    "   \n",
    "   g) Vilket av \"Alternativ 1\" och \"Alternativ 2\" nedan är det korrekta sättet att skriva koden på enligt PEP8?\n",
    "   \n",
    "Alternativ 1\n",
    "\n",
    "a1 = 5 + 2\n",
    "\n",
    "Alternativ 2\n",
    "\n",
    "a2=5+2   "
   ]
  },
  {
   "cell_type": "markdown",
   "id": "1ef4c415",
   "metadata": {},
   "source": [
    "1a.\n",
    "Some other good reasons to ignore a particular guideline:\n",
    "\n",
    "-When applying the guideline would make the code less readable, even for someone who is used to reading code that follows this PEP.\n",
    "\n",
    "-To be consistent with surrounding code that also breaks it (maybe for historic reasons) – although this is also an opportunity to clean up someone else’s mess (in true XP style).\n",
    "\n",
    "-Because the code in question predates the introduction of the guideline and there is no other reason to be modifying that code.\n",
    "\n",
    "-When the code needs to remain compatible with older versions of Python that don’t support the feature recommended by the style guide.\n",
    "\n",
    "1b.\n",
    "\n",
    "Python coders from non-English speaking countries: please write your comments in English, unless you are 120% sure that the code will never be read by people who don’t speak your language.\n",
    "\n",
    "1c.\n",
    "\n",
    "funktioner och variabler:  lowercase_with_underscore_separation\n",
    "\n",
    "1d.\n",
    "\n",
    "Class names: CapWords e.g. \"CamelCase\"\n",
    "\n",
    "1e.\n",
    "\n",
    "Imports are always put at the top of the file, just after any module comments and docstrings, and before module globals and constants.\n",
    "\n",
    "1f.\n",
    "\n",
    "PEP8 does not make a recommendation for this. Pick a rule and stick to it.\n",
    "\n",
    "1g.\n",
    "\n",
    "Alternativ 1: a1 = 5 + 2"
   ]
  },
  {
   "cell_type": "markdown",
   "id": "2d096e06-bce1-4145-9c5d-f4d3a6d01107",
   "metadata": {},
   "source": [
    "2. I \"PEP20 - The Zen of Python\" så står det:\n",
    "   \n",
    "   a) \"Explicit is better than implicit.\" Vad tror du det innebär? Kan du exemplifiera?\n",
    "   \n",
    "   b) \"Simple is better than complex.\" Vad tror du det innebär? Kan du exemplifiera? ."
   ]
  },
  {
   "cell_type": "markdown",
   "id": "1a2e8f71",
   "metadata": {},
   "source": [
    "2a.\n",
    "\n",
    "Tydligt (explicit) är bättre än underförstått (implicit):\n",
    "\n",
    "def add_two_numbers(a: int, b: int)-> int: 1\n",
    "\n",
    "    return a + b\n",
    "\n",
    "Funktionen (med typehints) kommer acceptera vilken typ av argument som helst, men nu förstår alla att den ska köras med int och returnera int.\n",
    "\n",
    "2b.\n",
    "\n",
    "Enkelhet är bättre en komplexitet:\n",
    "\n",
    "def reverse(myStr):\n",
    "\n",
    "    if myStr:\n",
    "    \n",
    "        return reverse(myStr[1:])+myStr[0]\n",
    "        \n",
    "    else:\n",
    "    \n",
    "        return myStr\n",
    "        \n",
    "kan skrivas enklare såhär:\n",
    "\n",
    "myStr[::-1]"
   ]
  },
  {
   "cell_type": "markdown",
   "id": "78ca2c6f-b3bb-4d36-bddf-38a46ebca1bd",
   "metadata": {},
   "source": [
    "3. Du och din nya kollega har en fikapaus och han säger följande: \"Det känns krångligt att vi alla skall behöva följa konventioner och standarder. Är det inte lättare om alla bara skriver kod på det sättet som de vill, sålänge som den fungerar\"? Vad svarar du? "
   ]
  },
  {
   "cell_type": "markdown",
   "id": "7448190b",
   "metadata": {},
   "source": [
    "Kod skriver man 1 gång men läser många gånger. Alltså behöver vi göra koden enkel att läsa: genom konventioner och standarder blir koden med läsbar."
   ]
  },
  {
   "cell_type": "markdown",
   "id": "975615f5-e018-4d02-a7f2-761d1ebf8517",
   "metadata": {},
   "source": [
    "# Uppgifter, Kapitel 8 - Felhantering"
   ]
  },
  {
   "cell_type": "markdown",
   "id": "c9b652d0-5240-494e-bf22-d71a49a46a01",
   "metadata": {},
   "source": [
    "1. Din kollega Johanna frågar dig:\n",
    "   \n",
    "   a) Vad är syntax errors?\n",
    "   \n",
    "   b) Varför skulle man vilja \"fånga exceptions\" i ett program och inte bara låta programmet stanna vid fel?\n",
    "   \n",
    "   c) Varför skulle man vilja \"lyfta exceptions\" i ett program? "
   ]
  },
  {
   "cell_type": "markdown",
   "id": "3c36ce79",
   "metadata": {},
   "source": [
    "a) Fel som uppstår när Python inte förstår koden.\n",
    "\n",
    "b) Skapa möjligheten om hur exception ska hanteras. Alternativet är att programmet kraschar för obetydligt fel.\n",
    "\n",
    "c) om det är viktigt att programmet slutar köras om det uppstår betydande fel. T ex om man försöker mata in \"100 tusen\" i banksaldo istället för 100 000."
   ]
  },
  {
   "cell_type": "markdown",
   "id": "e48a5bb4-22b3-4c97-8c0e-a1ffcc636be8",
   "metadata": {},
   "source": [
    "2. a) Förklara vad nedanstående kod gör.\n",
    "\n",
    "   b) Generellt sett, vad är poängen med att använda \"else\"?  "
   ]
  },
  {
   "cell_type": "code",
   "execution_count": 15,
   "id": "dd222cc8-183d-4f33-808d-2c6e996903d0",
   "metadata": {},
   "outputs": [
    {
     "name": "stdout",
     "output_type": "stream",
     "text": [
      "314\n",
      "Invalid input, cannot convert to integer.\n"
     ]
    }
   ],
   "source": [
    "def convert_string_to_int(string):\n",
    "    try:\n",
    "        int(string)\n",
    "    except ValueError:\n",
    "        return \"Invalid input, cannot convert to integer.\"\n",
    "    else:\n",
    "        return int(string)\n",
    "\n",
    "print(convert_string_to_int(\"314\")) \n",
    "print(convert_string_to_int(\"abc\")) "
   ]
  },
  {
   "cell_type": "markdown",
   "id": "dee5888c-e288-4da9-895e-3d33690aec4d",
   "metadata": {},
   "source": [
    "a) \n",
    "\n",
    "1. Försöker köra Try: utför operationen int(string).\n",
    "2. Om exception ValueError uppstår: returnera strängen \"Invalid input.....\"\n",
    "3. Om inte except (2) utförs körs istället else: och returnerar int(string)\n",
    "\n",
    "print(convert_string_to_int(\"314\")) -> 314\n",
    "print(convert_string_to_int(\"abs\")) -> ValueError\n",
    "\n",
    "b)\n",
    "\n",
    "else är tänkt att användas för funktionaliteten av funktionen då inget exception har uppstått."
   ]
  },
  {
   "cell_type": "markdown",
   "id": "184b8227-4840-4f2f-8f10-f4045f3ffc9b",
   "metadata": {},
   "source": [
    "3. Skriv ett kodexempel där du fångar en exception. Endast din kreativitet sätter gränser. "
   ]
  },
  {
   "cell_type": "code",
   "execution_count": 16,
   "id": "d66f40d0-e5bc-4dfa-be57-6806c06a15b0",
   "metadata": {},
   "outputs": [
    {
     "name": "stdout",
     "output_type": "stream",
     "text": [
      "0.5\n",
      "cannot divide with 0!\n"
     ]
    }
   ],
   "source": [
    "def my_function(a: int, b: int) -> int:\n",
    "    \"\"\"Division calculator\"\"\"\n",
    "    try:\n",
    "        a / b\n",
    "    except ZeroDivisionError:\n",
    "        print('cannot divide with 0!')\n",
    "    else:\n",
    "        print(a/b)\n",
    "        return a / b\n",
    "    \n",
    "my_function(1, 2)\n",
    "my_function(1,0)"
   ]
  },
  {
   "cell_type": "markdown",
   "id": "069b6e31-8faa-4550-9cb6-5300c6129167",
   "metadata": {},
   "source": [
    "4. Skapa en funktion \"add_two_small_numbers\" som adderar två tal. Om något av talen är större än 100 så skall du lyfta en exception och skriva ut meddelandet \"both numbers must be smaller than or equal to 100\". "
   ]
  },
  {
   "cell_type": "code",
   "execution_count": 17,
   "id": "1d61210b-b661-46f7-ba28-6da36d56af50",
   "metadata": {},
   "outputs": [
    {
     "name": "stdout",
     "output_type": "stream",
     "text": [
      "59\n"
     ]
    },
    {
     "ename": "Exception",
     "evalue": "both numbers must be smaller than or equal to 100",
     "output_type": "error",
     "traceback": [
      "\u001b[1;31m---------------------------------------------------------------------------\u001b[0m",
      "\u001b[1;31mException\u001b[0m                                 Traceback (most recent call last)",
      "Cell \u001b[1;32mIn[17], line 9\u001b[0m\n\u001b[0;32m      6\u001b[0m         \u001b[38;5;28;01mreturn\u001b[39;00m a\u001b[38;5;241m+\u001b[39mb\n\u001b[0;32m      8\u001b[0m \u001b[38;5;28mprint\u001b[39m(add_two_small_numbers(\u001b[38;5;241m4\u001b[39m, \u001b[38;5;241m55\u001b[39m))\n\u001b[1;32m----> 9\u001b[0m \u001b[43madd_two_small_numbers\u001b[49m\u001b[43m(\u001b[49m\u001b[38;5;241;43m33\u001b[39;49m\u001b[43m,\u001b[49m\u001b[38;5;241;43m101\u001b[39;49m\u001b[43m)\u001b[49m \n",
      "Cell \u001b[1;32mIn[17], line 4\u001b[0m, in \u001b[0;36madd_two_small_numbers\u001b[1;34m(a, b)\u001b[0m\n\u001b[0;32m      2\u001b[0m \u001b[38;5;250m\u001b[39m\u001b[38;5;124;03m\"\"\"Check that sum of numbers are lower than/equal to 100\"\"\"\u001b[39;00m\n\u001b[0;32m      3\u001b[0m \u001b[38;5;28;01mif\u001b[39;00m a \u001b[38;5;241m>\u001b[39m \u001b[38;5;241m100\u001b[39m \u001b[38;5;129;01mor\u001b[39;00m b \u001b[38;5;241m>\u001b[39m \u001b[38;5;241m100\u001b[39m:\n\u001b[1;32m----> 4\u001b[0m     \u001b[38;5;28;01mraise\u001b[39;00m \u001b[38;5;167;01mException\u001b[39;00m(\u001b[38;5;124m\"\u001b[39m\u001b[38;5;124mboth numbers must be smaller than or equal to 100\u001b[39m\u001b[38;5;124m\"\u001b[39m)\n\u001b[0;32m      5\u001b[0m \u001b[38;5;28;01melse\u001b[39;00m:\n\u001b[0;32m      6\u001b[0m     \u001b[38;5;28;01mreturn\u001b[39;00m a\u001b[38;5;241m+\u001b[39mb\n",
      "\u001b[1;31mException\u001b[0m: both numbers must be smaller than or equal to 100"
     ]
    }
   ],
   "source": [
    "def add_two_small_numbers(a: int, b: int) -> int:\n",
    "    \"\"\"Check that sum of numbers are lower than/equal to 100\"\"\"\n",
    "    if a > 100 or b > 100:\n",
    "        raise Exception(\"both numbers must be smaller than or equal to 100\")\n",
    "    else:\n",
    "        return a+b\n",
    "\n",
    "print(add_two_small_numbers(4, 55))\n",
    "add_two_small_numbers(33,101) "
   ]
  },
  {
   "cell_type": "markdown",
   "id": "6b852c0d-dd8b-4baa-8ce5-7d756b45e226",
   "metadata": {},
   "source": [
    "5. Din kollega, som är en skicklig programmerare, brukar innan hon försöker göra ett perfekt fungerande program testa olika ideér för att undersöka och lära sig mer om det problem hon försöker lösa. Nedan ser du ett av hennes skript som gjorts i syfte att undersöka och lära sig mer. Förklara vad det är hon gjort. "
   ]
  },
  {
   "cell_type": "code",
   "execution_count": 18,
   "id": "b8136f69-af5b-4951-a185-fb73eb5e2e8a",
   "metadata": {},
   "outputs": [
    {
     "name": "stdout",
     "output_type": "stream",
     "text": [
      "<class 'TypeError'>\n",
      "unsupported operand type(s) for +: 'int' and 'str'\n"
     ]
    }
   ],
   "source": [
    "# Checking which exception is raised\n",
    "try:\n",
    "    5 + \"Python is fun!\"\n",
    "except Exception as exception_instance:\n",
    "    print(type(exception_instance))\n",
    "    print(exception_instance)"
   ]
  },
  {
   "cell_type": "code",
   "execution_count": 19,
   "id": "c5f5d5f5-4503-4e71-9b90-e97cc1205bae",
   "metadata": {},
   "outputs": [
    {
     "name": "stdout",
     "output_type": "stream",
     "text": [
      "<class 'ZeroDivisionError'>\n",
      "division by zero\n"
     ]
    }
   ],
   "source": [
    "# Checking which exception is raised\n",
    "try:\n",
    "    5/0\n",
    "except Exception as exception_instance:\n",
    "    print(type(exception_instance))\n",
    "    print(exception_instance)"
   ]
  },
  {
   "cell_type": "code",
   "execution_count": 20,
   "id": "31c642ee-60af-42cb-9658-5a5752782ed6",
   "metadata": {},
   "outputs": [],
   "source": [
    "def add_two_numbers(a, b):\n",
    "    try:\n",
    "        return(a/b)\n",
    "    except TypeError:\n",
    "        print(\"Both arguments must be numbers.\")\n",
    "    except ZeroDivisionError:\n",
    "        print(\"Division by zero is not defined.\")        "
   ]
  },
  {
   "cell_type": "code",
   "execution_count": 21,
   "id": "d4f76310-41bb-4f99-9ed8-e5eacef3cfe4",
   "metadata": {},
   "outputs": [
    {
     "name": "stdout",
     "output_type": "stream",
     "text": [
      "2.5\n",
      "Both arguments must be numbers.\n",
      "None\n",
      "Division by zero is not defined.\n",
      "None\n"
     ]
    }
   ],
   "source": [
    "# Testing so the functionality is as expected\n",
    "print(add_two_numbers(5, 2))\n",
    "print(add_two_numbers(5, \"hello\"))\n",
    "print(add_two_numbers(5, 0))"
   ]
  },
  {
   "cell_type": "markdown",
   "id": "b401f0f3-f93f-43bd-ad29-2fa080338002",
   "metadata": {},
   "source": [
    "Kodblock 1+2:\n",
    "a) Test av 2 olika exceptions genom try:\n",
    "b) fångar exception i exception_instances och skriver ut klass och orsak.\n",
    "\n",
    "Kodblock 3:\n",
    "Skapande av funktion som försöker dividera 2 argument, och returnerar kvoten. \n",
    "Försöker även fånga upp TypeError och ZeroDivisionError, vilket resulterar i print-statements.\n",
    "\n",
    "Kodblock 4:\n",
    "test av metod med 3 olika typer av argument."
   ]
  },
  {
   "cell_type": "markdown",
   "id": "99fdf965-6382-4144-b08f-30fea759de05",
   "metadata": {},
   "source": [
    "# Uppgifter, Kapitel 9 - Test"
   ]
  },
  {
   "cell_type": "markdown",
   "id": "0f780504-b98f-4bfc-a3ed-ec42d7a3cdce",
   "metadata": {},
   "source": [
    "1. Varför är det generellt sett en god idé att bygga upp tester för sin kod? "
   ]
  },
  {
   "cell_type": "markdown",
   "id": "8c45b6da-0d99-46e1-b5dd-bec67f79cb25",
   "metadata": {},
   "source": [
    "Med hjälp av tester kan vi ha koll på att vår kod/system gör vad de ska göra. Kan vi sätta vår kod i produktion, eller måste vi modifiera för att kunna hantera andra format på data (som vi inte tänkt på ännu!)?"
   ]
  },
  {
   "cell_type": "markdown",
   "id": "f96d800b-c554-4fbc-935b-1513d1d88302",
   "metadata": {},
   "source": [
    "2. Nedan ser du funktionen multiply_two_numbers. Använd \"doctest\" modulen för att implementera några test för funktionen \"multiply_two_numbers\". \n",
    "Den läsare som önskar kan även implementera testen i modulen \"pytest\". "
   ]
  },
  {
   "cell_type": "code",
   "execution_count": 22,
   "id": "4d9efa9f-ad7f-4a60-9cbc-7c9a83e474d9",
   "metadata": {},
   "outputs": [],
   "source": [
    "def multiply_two_numbers(a, b):\n",
    "    \"\"\"Return the product of a and b.\"\"\"\n",
    "    return a*b"
   ]
  },
  {
   "cell_type": "code",
   "execution_count": 23,
   "id": "6abe6e97-272f-41ec-b5f5-b64bb125da2e",
   "metadata": {},
   "outputs": [
    {
     "data": {
      "text/plain": [
       "TestResults(failed=0, attempted=1)"
      ]
     },
     "execution_count": 23,
     "metadata": {},
     "output_type": "execute_result"
    }
   ],
   "source": [
    "# doctest\n",
    "\n",
    "def multiply_two_numbers(a, b):\n",
    "    \"\"\"Return the product of a and b.\n",
    "    >>> multiply_two_numbers(2,3)\n",
    "    6\n",
    "    \"\"\"\n",
    "    return a*b\n",
    "\n",
    "import doctest\n",
    "doctest.testmod()"
   ]
  },
  {
   "cell_type": "markdown",
   "id": "5e6b613d-6415-4f99-bfb2-83fe23b15c7d",
   "metadata": {},
   "source": [
    "3. Skriv någon kod eller använd någon kod som du till exempel skrivit i tidigare kapitels uppgifter och implementera några test. Använd \"doctest\" och/eller \"pytest\" modulen. "
   ]
  },
  {
   "cell_type": "code",
   "execution_count": 24,
   "id": "ba52ac8c",
   "metadata": {},
   "outputs": [
    {
     "name": "stdout",
     "output_type": "stream",
     "text": [
      "TestResults(failed=0, attempted=3)\n",
      "32\n",
      "64\n"
     ]
    }
   ],
   "source": [
    "import doctest\n",
    "\n",
    "class Square:\n",
    "    def __init__(self, side_length):\n",
    "        self.side_length = side_length\n",
    "    def perimeter(self):\n",
    "        \"\"\"\"\n",
    "        >>> Square(8).perimeter()\n",
    "        32\n",
    "        \"\"\"\n",
    "        return self.side_length * 4 \n",
    "    def area(self):\n",
    "        \"\"\"\"\n",
    "        >>> Square(8).area()\n",
    "        64\n",
    "        \"\"\"\n",
    "        return self.side_length ** 2\n",
    "        \n",
    "my_square = Square(8)\n",
    "\n",
    "print(doctest.testmod())\n",
    "\n",
    "print(my_square.perimeter())\n",
    "print(my_square.area())"
   ]
  },
  {
   "cell_type": "code",
   "execution_count": 25,
   "id": "5973e826-4088-420d-8762-d29723fe62f9",
   "metadata": {},
   "outputs": [],
   "source": [
    "#Följande kod finns i anteckningssyfte utanför Kunskapskontrolls scope\n",
    "#test_my_function.py\n",
    "\n",
    "import pytest\n",
    "import doctest\n",
    "\n",
    "def multiply_two_numbers(a, b):\n",
    "    \"\"\"Return the product of a and b.\n",
    "    >>> multiply_two_numbers(2,3)\n",
    "    6\n",
    "    \"\"\"\n",
    "    return a*b\n",
    "\n",
    "def test_multiply_two_numbers():\n",
    "    assert multiply_two_numbers(2,3) == 6"
   ]
  },
  {
   "cell_type": "markdown",
   "id": "02220740",
   "metadata": {},
   "source": [
    "# Uppgifter, Kapitel 10 - Moduler och paket"
   ]
  },
  {
   "cell_type": "markdown",
   "id": "d6a8bb81-a567-4a38-8972-1e658fd547fa",
   "metadata": {},
   "source": [
    "3. Bygg en egen modul som till exempel innehåller två funktioner, importera därefter denna modulen i ett annat skript och prova använd de två funktionerna. Notera att modulen du bygger skall skrivas i ett \"vanligt skript\" (en .py fil) och inte i en jupyter notebook fil (.ipynb). Du kan däremot importera modulen (.py filen) i en jupyter notebook (.ipynb fil).\n",
    "  \n",
    "   Om du önskar importera en jupyter notebook (.ipynb fil) till en annan jupyter notebook (.ipynb fil) så kan du kolla igenom följande smidiga paket: https://pypi.org/project/import-ipynb/ ."
   ]
  },
  {
   "cell_type": "code",
   "execution_count": 26,
   "id": "5d0cbd55",
   "metadata": {},
   "outputs": [],
   "source": [
    "# #my_module_assignement_10.py\n",
    "\n",
    "# \"\"\"This module contains 2 functions. One function to calculate addition and one to calculate multiplication\"\"\"\n",
    "\n",
    "# def additions_of_numbers(a,b):\n",
    "#     print(\"This is addition\")\n",
    "#     return a+b\n",
    "\n",
    "# def multiplication_of_numbers(a,b):\n",
    "#     print(\"This is multiplication\")\n",
    "#     return a*b"
   ]
  },
  {
   "cell_type": "code",
   "execution_count": 27,
   "id": "9e56e5ea-42f5-4f7b-8aea-fdf8e82f084a",
   "metadata": {},
   "outputs": [
    {
     "name": "stdout",
     "output_type": "stream",
     "text": [
      "This is addition\n",
      "This is multiplication\n"
     ]
    },
    {
     "data": {
      "text/plain": [
       "20"
      ]
     },
     "execution_count": 27,
     "metadata": {},
     "output_type": "execute_result"
    }
   ],
   "source": [
    "import my_module_assignement_10\n",
    "\n",
    "my_module_assignement_10.additions_of_numbers(10,2)\n",
    "\n",
    "my_module_assignement_10.multiplication_of_numbers(10,2)"
   ]
  },
  {
   "cell_type": "code",
   "execution_count": 28,
   "id": "1818f019",
   "metadata": {},
   "outputs": [
    {
     "name": "stdout",
     "output_type": "stream",
     "text": [
      "Help on module my_module_assignement_10:\n",
      "\n",
      "NAME\n",
      "    my_module_assignement_10 - This module contains 2 functions. One function to calculate addition and one to calculate multiplication\n",
      "\n",
      "FUNCTIONS\n",
      "    additions_of_numbers(a, b)\n",
      "    \n",
      "    multiplication_of_numbers(a, b)\n",
      "\n",
      "FILE\n",
      "    c:\\users\\elin\\desktop\\ds23\\08_fördjupad pythonprogrammering\\kunskapskontroll 1\\my_module_assignement_10.py\n",
      "\n",
      "\n"
     ]
    }
   ],
   "source": [
    "help(my_module_assignement_10)"
   ]
  },
  {
   "cell_type": "markdown",
   "id": "a3104017",
   "metadata": {},
   "source": [
    "# Uppgifter, Kapitel 11 - Loggning"
   ]
  },
  {
   "cell_type": "markdown",
   "id": "796283db-be36-4d2d-abd2-f8e147f182eb",
   "metadata": {},
   "source": [
    "1. Varför kan loggfiler med information vara viktiga för exempelvis företag och organisationer? "
   ]
  },
  {
   "cell_type": "markdown",
   "id": "ae8d83aa-092a-40c1-b328-0a9b45cfa6df",
   "metadata": {},
   "source": [
    "Följa upp hur arbetet (kodens exekvering) har gått (med/utan problem)"
   ]
  },
  {
   "cell_type": "markdown",
   "id": "12f67cf7-2964-46dc-8878-6eac51526fb9",
   "metadata": {},
   "source": [
    "2. Vad menas med att det finns olika nivåer för logg-meddelanden? "
   ]
  },
  {
   "cell_type": "markdown",
   "id": "9a0a8d20-eb04-4298-a0e2-887856b868df",
   "metadata": {},
   "source": [
    "Python använder 5 nivåer (stigande grad: DEBUG, INFO, WARNING, ERROR och CRITICAL). Att sätta nivå till INFO innebär att INFO t o m CRITICAL loggas (alltså inte DEBUG). Detta för att kunna styra prestanda vid körning av kod och underlätta utvärdering av loggning."
   ]
  },
  {
   "cell_type": "markdown",
   "id": "f6f73def-117a-49ef-b902-c777399ed257",
   "metadata": {},
   "source": [
    "3. Skapa ett valfritt program där du också använder dig av logging modulen. "
   ]
  },
  {
   "cell_type": "code",
   "execution_count": 29,
   "id": "36385a7c-ff7f-42dd-8273-9a9061a7643e",
   "metadata": {},
   "outputs": [],
   "source": [
    "import logging\n",
    "\n",
    "logging.basicConfig(\n",
    "                    filename='logfile.log',\n",
    "                    level=logging.INFO,\n",
    "                    format=\"[%(asctime)s][%(levelname)s] %(message)s\"\n",
    "                    )\n",
    "logger = logging.getLogger(__name__)\n",
    "\n",
    "def name_printer(string: str) -> str:\n",
    "    try:\n",
    "        phrase = \"Hello \" + string\n",
    "        print(f\"The phrase: {phrase} is print out\")\n",
    "        logger.info('The string %s was accepted. Works as expected!', string)\n",
    "    except Exception as exception:\n",
    "        # logger.warning(exception)\n",
    "        logger.warning('this was the error: %s and %s', exception, 'bananas')\n",
    "        print(\"A warning, error or critical was logged\")\n",
    "        return 'Please use a string as argument'\n",
    "    return phrase\n"
   ]
  },
  {
   "cell_type": "code",
   "execution_count": 30,
   "id": "1f4ea26c",
   "metadata": {},
   "outputs": [
    {
     "name": "stdout",
     "output_type": "stream",
     "text": [
      "The phrase: Hello Jonathan is print out\n",
      "A warning, error or critical was logged\n"
     ]
    },
    {
     "data": {
      "text/plain": [
       "'Please use a string as argument'"
      ]
     },
     "execution_count": 30,
     "metadata": {},
     "output_type": "execute_result"
    }
   ],
   "source": [
    "name_printer(\"Jonathan\")\n",
    "name_printer(2)"
   ]
  }
 ],
 "metadata": {
  "kernelspec": {
   "display_name": ".venv",
   "language": "python",
   "name": "python3"
  },
  "language_info": {
   "codemirror_mode": {
    "name": "ipython",
    "version": 3
   },
   "file_extension": ".py",
   "mimetype": "text/x-python",
   "name": "python",
   "nbconvert_exporter": "python",
   "pygments_lexer": "ipython3",
   "version": "3.10.4"
  }
 },
 "nbformat": 4,
 "nbformat_minor": 5
}
